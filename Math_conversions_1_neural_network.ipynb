{
  "nbformat": 4,
  "nbformat_minor": 0,
  "metadata": {
    "colab": {
      "name": "Math_conversions_1_neural_network.ipynb",
      "provenance": [],
      "authorship_tag": "ABX9TyOR/qaFZXttxDBv6IO0XWvF",
      "include_colab_link": true
    },
    "kernelspec": {
      "name": "python3",
      "display_name": "Python 3"
    },
    "language_info": {
      "name": "python"
    },
    "accelerator": "TPU",
    "gpuClass": "standard"
  },
  "cells": [
    {
      "cell_type": "markdown",
      "metadata": {
        "id": "view-in-github",
        "colab_type": "text"
      },
      "source": [
        "<a href=\"https://colab.research.google.com/github/den0400/Neural_networks/blob/main/Math_conversions_1_neural_network.ipynb\" target=\"_parent\"><img src=\"https://colab.research.google.com/assets/colab-badge.svg\" alt=\"Open In Colab\"/></a>"
      ]
    },
    {
      "cell_type": "code",
      "execution_count": null,
      "metadata": {
        "id": "GTwkjlT01-8-"
      },
      "outputs": [],
      "source": [
        "import tensorflow as tf\n",
        "import numpy as np"
      ]
    },
    {
      "cell_type": "code",
      "source": [
        "m = np.array([10,56,23,8,45,22,75], dtype=float)\n",
        "cm = np.array([1000,5600,2300,800,4500,2200,7500], dtype=float)"
      ],
      "metadata": {
        "id": "SCqFuZ4Z2WSr"
      },
      "execution_count": null,
      "outputs": []
    },
    {
      "cell_type": "code",
      "source": [
        "'''\n",
        "Capa de salida con una neurona\n",
        "units = número de neuronas de salida\n",
        "input_shape = número de neuronas de entrada\n",
        "'''\n",
        "capa = tf.keras.layers.Dense(units=1,input_shape=[1])\n",
        "\n",
        "#creación del modelo -> de tipo secuencial\n",
        "modelo = tf.keras.Sequential([capa])"
      ],
      "metadata": {
        "id": "wf_yC0AL282O"
      },
      "execution_count": null,
      "outputs": []
    },
    {
      "cell_type": "code",
      "source": [
        "'''\n",
        "optimizando el modelo para entramiento\n",
        "optimizador usado: Adam -> toma en cuenta el entrenamiento por época\n",
        "tasa de aprendizaje: 0.55 -> como ajustar el peso y sesgo\n",
        "función de pérdida: mean_squared_error\n",
        "'''\n",
        "modelo.compile(\n",
        "    optimizer=tf.keras.optimizers.Adam(0.55),\n",
        "    loss='mean_squared_error'\n",
        ")"
      ],
      "metadata": {
        "id": "7JplCXFw3VWq"
      },
      "execution_count": null,
      "outputs": []
    },
    {
      "cell_type": "code",
      "source": [
        "'''\n",
        "para entrenar utilizamos fit, se le pasa los inputs y outputs\n",
        "epochs: cuantas veces calcula\n",
        "'''\n",
        "print(\"Entrenando\")\n",
        "historial = modelo.fit(m, cm, epochs=500, verbose=False)\n",
        "print(\"Fin de entrenamiento\")"
      ],
      "metadata": {
        "colab": {
          "base_uri": "https://localhost:8080/"
        },
        "id": "2o_rQQPG3tNs",
        "outputId": "6879aee7-25b0-4c26-c600-ca2d4dd02c6b"
      },
      "execution_count": null,
      "outputs": [
        {
          "output_type": "stream",
          "name": "stdout",
          "text": [
            "Entrenando\n",
            "Fin de entrenamiento\n"
          ]
        }
      ]
    },
    {
      "cell_type": "code",
      "source": [
        "'''\n",
        "Resultado de la función de pérdida\n",
        "Entre más alejado del origen menos exacto el resultado\n",
        "Se busca un balance entre el número de cálculos de entrenamiento y la tasa de aprendizajes para mayor exactitud\n",
        "'''\n",
        "import matplotlib.pyplot as plt\n",
        "plt.xlabel(\"epochs\")\n",
        "plt.ylabel(\"Magnitud de pérdida\")\n",
        "plt.plot(historial.history[\"loss\"])"
      ],
      "metadata": {
        "colab": {
          "base_uri": "https://localhost:8080/",
          "height": 297
        },
        "id": "wXPGOeYv4Byd",
        "outputId": "8c139ec2-1713-4ae9-d05e-09e963eb9f80"
      },
      "execution_count": null,
      "outputs": [
        {
          "output_type": "execute_result",
          "data": {
            "text/plain": [
              "[<matplotlib.lines.Line2D at 0x7f25dd335a90>]"
            ]
          },
          "metadata": {},
          "execution_count": 73
        },
        {
          "output_type": "display_data",
          "data": {
            "text/plain": [
              "<Figure size 432x288 with 1 Axes>"
            ],
            "image/png": "[encoded data removed]"
          },
          "metadata": {
            "needs_background": "light"
          }
        }
      ]
    },
    {
      "cell_type": "code",
      "source": [
        "#Predecimos 23m en cm\n",
        "print(\"Predicción:\")\n",
        "resultado = modelo.predict([23])\n",
        "print(\"El resultado es: \" + str(resultado) + \"cm\")"
      ],
      "metadata": {
        "colab": {
          "base_uri": "https://localhost:8080/"
        },
        "id": "3y94MUdk4jJZ",
        "outputId": "ada8eea5-2513-4eb9-de18-b005fb18631f"
      },
      "execution_count": null,
      "outputs": [
        {
          "output_type": "stream",
          "name": "stdout",
          "text": [
            "Predicción:\n",
            "El resultado es: [[2300.0159]]cm\n"
          ]
        }
      ]
    },
    {
      "cell_type": "code",
      "source": [
        "print(\"Variables internas: \")\n",
        "print(capa.get_weights())"
      ],
      "metadata": {
        "colab": {
          "base_uri": "https://localhost:8080/"
        },
        "id": "8VeHWDez5E1p",
        "outputId": "a89b698d-6793-4839-98b2-636c8d6b9196"
      },
      "execution_count": null,
      "outputs": [
        {
          "output_type": "stream",
          "name": "stdout",
          "text": [
            "Variables internas: \n",
            "[array([[98.29606]], dtype=float32), array([84.50662], dtype=float32)]\n"
          ]
        }
      ]
    }
  ]
}